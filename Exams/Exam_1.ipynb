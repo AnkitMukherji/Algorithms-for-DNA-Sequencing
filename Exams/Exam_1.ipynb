{
 "cells": [
  {
   "cell_type": "code",
   "execution_count": 3,
   "id": "4466b1f9",
   "metadata": {},
   "outputs": [
    {
     "name": "stderr",
     "output_type": "stream",
     "text": [
      "--2023-10-31 15:42:37--  https://d28rh4a8wq0iu5.cloudfront.net/ads1/data/lambda_virus.fa\n",
      "Resolving d28rh4a8wq0iu5.cloudfront.net (d28rh4a8wq0iu5.cloudfront.net)... 18.67.194.17, 18.67.194.183, 18.67.194.59, ...\n",
      "Connecting to d28rh4a8wq0iu5.cloudfront.net (d28rh4a8wq0iu5.cloudfront.net)|18.67.194.17|:443... connected.\n",
      "HTTP request sent, awaiting response... 200 OK\n",
      "Length: 49270 (48K) [application/octet-stream]\n",
      "Saving to: 'lambda_virus.fa'\n",
      "\n",
      "     0K .......... .......... .......... .......... ........  100% 3.61M=0.01s\n",
      "\n",
      "2023-10-31 15:42:37 (3.61 MB/s) - 'lambda_virus.fa' saved [49270/49270]\n",
      "\n"
     ]
    }
   ],
   "source": [
    "!wget https://d28rh4a8wq0iu5.cloudfront.net/ads1/data/lambda_virus.fa"
   ]
  },
  {
   "cell_type": "code",
   "execution_count": 14,
   "id": "256f88d2",
   "metadata": {},
   "outputs": [],
   "source": [
    "def naive(p, t):\n",
    "    occurrences = []\n",
    "    for i in range(len(t) - len(p) + 1):\n",
    "        match = True\n",
    "        for j in range(len(p)):\n",
    "            if t[i+j] != p[j]:\n",
    "                match = False\n",
    "                break\n",
    "        if match:\n",
    "            occurrences.append(i)\n",
    "    return occurrences"
   ]
  },
  {
   "cell_type": "code",
   "execution_count": 68,
   "id": "9077b178",
   "metadata": {},
   "outputs": [],
   "source": [
    "def readGenome(filename):\n",
    "    genome = ''\n",
    "    with open(filename, 'r') as f:\n",
    "        for line in f:\n",
    "            if not line[0] == '>':\n",
    "                genome += line.rstrip()\n",
    "    return genome"
   ]
  },
  {
   "cell_type": "code",
   "execution_count": 70,
   "id": "9dbbdd1e",
   "metadata": {},
   "outputs": [
    {
     "data": {
      "text/plain": [
       "Counter({'G': 12820, 'C': 11362, 'A': 12334, 'T': 11986})"
      ]
     },
     "execution_count": 70,
     "metadata": {},
     "output_type": "execute_result"
    }
   ],
   "source": [
    "import collections\n",
    "genome = readGenome('lambda_virus.fa')\n",
    "count = collections.Counter()\n",
    "for read in lambda_reads:\n",
    "    count.update(read)\n",
    "count"
   ]
  },
  {
   "cell_type": "code",
   "execution_count": 71,
   "id": "3f656c72",
   "metadata": {},
   "outputs": [],
   "source": [
    "def reverseComplement(s):\n",
    "    complement = {'A': 'T', 'C': 'G', 'G': 'C', 'T': 'A'}\n",
    "    t = ''\n",
    "    for base in s:\n",
    "        t = complement[base] + t\n",
    "    return t"
   ]
  },
  {
   "cell_type": "markdown",
   "id": "147796ff",
   "metadata": {},
   "source": [
    "**How many times does \n",
    "TTAA or its reverse complement occur in the lambda virus genome?**\n",
    "\n",
    "**Hint: \n",
    "TTAA and its reverse complement are equal, so remember not to double count.**"
   ]
  },
  {
   "cell_type": "code",
   "execution_count": 75,
   "id": "886fd0cb",
   "metadata": {},
   "outputs": [
    {
     "name": "stdout",
     "output_type": "stream",
     "text": [
      "195\n"
     ]
    }
   ],
   "source": [
    "count = 0\n",
    "r = 'TTAA'\n",
    "count += len(naive('TTAA', genome))\n",
    "if r != reverseComplement(r):\n",
    "    count += len(naive(reverseComplement('TTAA'), genome))\n",
    "print(count)"
   ]
  },
  {
   "cell_type": "markdown",
   "id": "35b5165f",
   "metadata": {},
   "source": [
    "**What is the offset of the leftmost occurrence of \n",
    "ACTAAGT or its reverse complement in the Lambda virus genome?  E.g. if the leftmost occurrence of \n",
    "ACTAAGT is at offset 40 (0-based) and the leftmost occurrence of its reverse complement \n",
    "ACTTAGT is at offset 29, then report 29.**"
   ]
  },
  {
   "cell_type": "code",
   "execution_count": 79,
   "id": "e8286e9a",
   "metadata": {},
   "outputs": [
    {
     "name": "stdout",
     "output_type": "stream",
     "text": [
      "offset1: 44806    offset2: 45369\n",
      "44806\n"
     ]
    }
   ],
   "source": [
    "needle = 'AGTCGA'\n",
    "offset1 = genome.rfind(needle)\n",
    "offset2 = genome.rfind(reverseComplement(needle))\n",
    "print('offset1: %d    offset2: %d' % (offset1, offset2))\n",
    "print(min(offset1, offset2))"
   ]
  },
  {
   "cell_type": "markdown",
   "id": "46883fc4",
   "metadata": {},
   "source": [
    "**As we will discuss, sometimes we would like to find approximate matches for P in T.\n",
    "That is, we want to find occurrences with one or more differences.\n",
    "For Questions 5 and 6, make a new version of the naive function called naive_2mm\n",
    "that allows up to 2 mismatches per occurrence. Unlike for the previous questions,\n",
    "do not consider the reverse complement here. We're looking for approximate matches for P itself,\n",
    "not its reverse complement.\n",
    "For example, ACTTTA occurs twice in ACTTACTTGATAAAGT, once at offset 0 with 2 mismatches,\n",
    "and once at offset 4 with 1 mismatch. So naive_2mm(’ACTTTA’,’ACTTACTTGATAAAGT’)\n",
    "should return the list [0,4].\n",
    "How many times does TTCAAGCC occur in the Lambda virus genome when allowing up to 2 mismatches?**"
   ]
  },
  {
   "cell_type": "code",
   "execution_count": 82,
   "id": "dbe6ea29",
   "metadata": {},
   "outputs": [
    {
     "data": {
      "text/plain": [
       "[0, 4]"
      ]
     },
     "execution_count": 82,
     "metadata": {},
     "output_type": "execute_result"
    }
   ],
   "source": [
    "def naive_2mm(p, t):\n",
    "    occurrences = []\n",
    "    for i in range(len(t) - len(p) + 1):  # loop over alignments\n",
    "        mismatch = 0\n",
    "        for j in range(len(p)):  # loop over characters\n",
    "            if t[i+j] != p[j]:  # compare characters\n",
    "                mismatch += 1\n",
    "                if mismatch > 2:\n",
    "                    break\n",
    "        if mismatch <= 2:\n",
    "            occurrences.append(i)  # all chars matched; record\n",
    "    return occurrences\n",
    "naive_2mm('ACTTTA', 'ACTTACTTGATAAAGT')"
   ]
  },
  {
   "cell_type": "code",
   "execution_count": 83,
   "id": "b9c1cd36",
   "metadata": {},
   "outputs": [
    {
     "name": "stdout",
     "output_type": "stream",
     "text": [
      "191\n"
     ]
    }
   ],
   "source": [
    "count = len(naive_2mm('TTCAAGCC', genome))\n",
    "print(count)"
   ]
  },
  {
   "cell_type": "markdown",
   "id": "ce2e870a",
   "metadata": {},
   "source": [
    "**What is the offset of the leftmost occurrence of AGGAGGTT\n",
    "in the Lambda virus genome when allowing up to 2 mismatches?**"
   ]
  },
  {
   "cell_type": "code",
   "execution_count": 84,
   "id": "86fef91e",
   "metadata": {},
   "outputs": [
    {
     "name": "stdout",
     "output_type": "stream",
     "text": [
      "49\n"
     ]
    }
   ],
   "source": [
    "offsets = naive_2mm('AGGAGGTT', genome)\n",
    "print(offsets[0])"
   ]
  },
  {
   "cell_type": "markdown",
   "id": "22e59310",
   "metadata": {},
   "source": [
    "**Finally, download and parse the provided FASTQ file containing real DNA sequencing reads\n",
    "derived from a human:\n",
    "https://d28rh4a8wq0iu5.cloudfront.net/ads1/data/ERR037900_1.first1000.fastq\n",
    "Note that the file has many reads in it and you should examine all of them together when answering this question.\n",
    "The reads are taken from this study:\n",
    "Ajay, S. S., Parker, S. C., Abaan, H. O., Fajardo, K. V. F., & Margulies, E. H. (2011). Accurate\n",
    "and comprehensive sequencing of personal genomes. Genome research, 21(9), 1498-1505.\n",
    "This dataset has something wrong with it; one of the sequencing cycles is poor quality.\n",
    "Report which sequencing cycle has the problem. Remember that a sequencing cycle corresponds\n",
    "to a particular offset in all the reads. For example, if the leftmost read position seems\n",
    "to have a problem consistently across reads, report 0. If the fourth position from the left has the problem,\n",
    "report 3. Do whatever analysis you think is needed to identify the bad cycle.\n",
    "It might help to review the \"Analyzing reads by position\" video.**"
   ]
  },
  {
   "cell_type": "code",
   "execution_count": 85,
   "id": "c86a02b9",
   "metadata": {},
   "outputs": [
    {
     "name": "stderr",
     "output_type": "stream",
     "text": [
      "--2023-10-31 17:47:41--  https://d28rh4a8wq0iu5.cloudfront.net/ads1/data/ERR037900_1.first1000.fastq\n",
      "Resolving d28rh4a8wq0iu5.cloudfront.net (d28rh4a8wq0iu5.cloudfront.net)... 18.67.194.183, 18.67.194.125, 18.67.194.17, ...\n",
      "Connecting to d28rh4a8wq0iu5.cloudfront.net (d28rh4a8wq0iu5.cloudfront.net)|18.67.194.183|:443... connected.\n",
      "HTTP request sent, awaiting response... 200 OK\n",
      "Length: 241626 (236K) [application/octet-stream]\n",
      "Saving to: 'ERR037900_1.first1000.fastq'\n",
      "\n",
      "     0K .......... .......... .......... .......... .......... 21% 4.69M 0s\n",
      "    50K .......... .......... .......... .......... .......... 42% 3.38M 0s\n",
      "   100K .......... .......... .......... .......... .......... 63% 1.86M 0s\n",
      "   150K .......... .......... .......... .......... .......... 84% 5.05M 0s\n",
      "   200K .......... .......... .......... .....                100% 8.50M=0.06s\n",
      "\n",
      "2023-10-31 17:47:42 (3.55 MB/s) - 'ERR037900_1.first1000.fastq' saved [241626/241626]\n",
      "\n"
     ]
    }
   ],
   "source": [
    "!wget https://d28rh4a8wq0iu5.cloudfront.net/ads1/data/ERR037900_1.first1000.fastq"
   ]
  },
  {
   "cell_type": "code",
   "execution_count": 86,
   "id": "16529b15",
   "metadata": {},
   "outputs": [],
   "source": [
    "def read_FAST_Q(filename):\n",
    "    sequences = []\n",
    "    qualities = []\n",
    "    with open(filename, 'r') as f:\n",
    "        while True:\n",
    "            f.readline()\n",
    "            seq = f.readline().rstrip()\n",
    "            f.readline()\n",
    "            qual = f.readline().rstrip()\n",
    "            if len(seq) == 0:\n",
    "                break\n",
    "            sequences.append(seq)\n",
    "            qualities.append(qual)\n",
    "    return sequences, qualities"
   ]
  },
  {
   "cell_type": "code",
   "execution_count": 87,
   "id": "62e9869b",
   "metadata": {},
   "outputs": [
    {
     "name": "stdout",
     "output_type": "stream",
     "text": [
      "['TAACCCTAACCCTAACCCTAACCCTAACCCTAACCCTAACCCTAACCCTAACCCTAACCCTAACCCNAACCCTAACCCTAACCCTAACCCTAACCCTAAC', 'TAACCCTAACCCTAACCCTAACCCTAACCCTAACCCTAACCCTAACCCTAACCCTAACCCTAACCCNAACCCTAACCCTAACCCTAACCCTNACCCTAAC', 'TAACCCTAACCCTAACCCTAACCCTAACCCTAACCCTAACCCTAACCCTAACCCTAACCCTAACCCNAACCCTAACCCTAACCCTAACCCTAACCCTAAC', 'TAACCCTAACCCTAACCCTAACCCTAACCCTAACCCTAACCCTAACCCTAACCCTAACCCTAACCCNAACCCTAACCCTAACCCTAACCCTAACCCTACC', 'AACCCTAACCCTAACCCTAACCCTAACCCTAACCCTAACCCTAACCCTAACCCTAACCCTAACCCTNACCCTAACCCTAACCCTAACCCTAAACCTAACC']\n",
      "['HHHHHHHHHHHHHHHHHHHHHHHHHHHHHHHHHHHHHHHHHHHGFHHHFHFFHHHHHGHHFHEH@4#55554455HGFBF<@C>7EEF@FBEDDD<=C<E', 'HHHHHHHHHHHHHHHHHHHHHHHHHHHHHHHHHHHHHHHHHHHHHHHHHHHHHHHHCHHHHEHHBA#C>@54455C/7=CGHEGEB;C############', 'HHHHHHHHHHHHHHHHHHHHHHHHHHHHHHGHHHHHHHHHHHHHDHHHDEHHHHFGIHEHEGGGF4#45655366GIGEHAGBG################', 'HHHHHHHHHHHHHHHHHHHHHHHHHIHHHHHHHHHHHHHHHHHHHHHHIHHHHHIHFHHHIHHHHD#ECA54655GGIBH?BD@+BCBF?5A=::>8?##', 'HHHHHHHHHHHHHHHHHHHHHHHHHHHHHHHHHHHHHHHHHHHHHHHIHIHEHHIGHIFFHIIGF6#555:2=7=CB;?3CAACBAC2B###########']\n",
      "100\n"
     ]
    }
   ],
   "source": [
    "seq, qual = read_FAST_Q('ERR037900_1.first1000.fastq')\n",
    "print(seq[:5])\n",
    "print(qual[:5])\n",
    "print(len(seq[0]))"
   ]
  },
  {
   "cell_type": "code",
   "execution_count": 88,
   "id": "5b259b00",
   "metadata": {},
   "outputs": [],
   "source": [
    "def QtoPhred33(Q):\n",
    "    '''Turn Q into Phred+33 ASCII-­‐encoded quality'''\n",
    "    return chr(Q + 33) # converts character to integer according to ASCII table\n",
    "\n",
    "def phred33ToQ(qual):\n",
    "    '''Turn Phred+33 ASCII-encoded quality into Q'''\n",
    "    return ord(qual) - 33 # converts integer to character according to ASCII table"
   ]
  },
  {
   "cell_type": "code",
   "execution_count": 89,
   "id": "08346c31",
   "metadata": {},
   "outputs": [
    {
     "name": "stdout",
     "output_type": "stream",
     "text": [
      "[0, 0, 17723, 0, 2, 11, 11, 28, 23, 55, 100, 111, 86, 174, 185, 272, 317, 259, 390, 1523, 2782, 762, 286, 413, 403, 538, 351, 694, 971, 777, 1024, 1449, 1341, 1312, 1916, 2233, 3025, 4043, 6640, 45696, 2074, 0, 0, 0, 0, 0, 0, 0, 0, 0]\n"
     ]
    }
   ],
   "source": [
    "def createHistory(qualities):\n",
    "    history = [0] * 50\n",
    "    for qual in qualities:\n",
    "        for phred in qual:\n",
    "            q = phred33ToQ(phred)\n",
    "            history[q] += 1\n",
    "    return history\n",
    "h = createHistory(qual)\n",
    "print(h)"
   ]
  },
  {
   "cell_type": "code",
   "execution_count": 90,
   "id": "bfa952c1",
   "metadata": {},
   "outputs": [
    {
     "data": {
      "image/png": "[encoded data removed]",
      "text/plain": [
       "<Figure size 640x480 with 1 Axes>"
      ]
     },
     "metadata": {},
     "output_type": "display_data"
    }
   ],
   "source": [
    "get_ipython().run_line_magic('matplotlib', 'inline')\n",
    "import matplotlib.pyplot as plt\n",
    "plt.bar(range(len(h)), h)\n",
    "plt.show()"
   ]
  },
  {
   "cell_type": "code",
   "execution_count": 91,
   "id": "4681df4e",
   "metadata": {},
   "outputs": [
    {
     "name": "stdout",
     "output_type": "stream",
     "text": [
      "#\n"
     ]
    }
   ],
   "source": [
    "print(QtoPhred33(2))"
   ]
  },
  {
   "cell_type": "code",
   "execution_count": 92,
   "id": "e9665e89",
   "metadata": {},
   "outputs": [],
   "source": [
    "import collections\n",
    "\n",
    "def maxPoorQualitySequencingCycle(qualities):\n",
    "    min_score = 123456789\n",
    "    min_index = -1\n",
    "    for i, qual in enumerate(qualities):\n",
    "        score = sum(map(ord, qual))\n",
    "        if min_score > score:\n",
    "            min_score = score\n",
    "            min_index = i\n",
    "    return min_index"
   ]
  },
  {
   "cell_type": "code",
   "execution_count": 93,
   "id": "c8bc373c",
   "metadata": {},
   "outputs": [
    {
     "name": "stdout",
     "output_type": "stream",
     "text": [
      "incorrect answer: 111\n"
     ]
    }
   ],
   "source": [
    "offset = maxPoorQualitySequencingCycle(qual)\n",
    "print(\"incorrect answer: %d\" % offset)"
   ]
  },
  {
   "cell_type": "code",
   "execution_count": 94,
   "id": "e7a4fef0",
   "metadata": {},
   "outputs": [
    {
     "name": "stdout",
     "output_type": "stream",
     "text": [
      "well this was my best guess...\n",
      "A@A@A9@?>A45555@@46?54/5/554+588<<8FCBF#############################################################\n"
     ]
    }
   ],
   "source": [
    "print(\"well this was my best guess...\\n\" + qual[111])"
   ]
  }
 ],
 "metadata": {
  "kernelspec": {
   "display_name": "Python 3 (ipykernel)",
   "language": "python",
   "name": "python3"
  },
  "language_info": {
   "codemirror_mode": {
    "name": "ipython",
    "version": 3
   },
   "file_extension": ".py",
   "mimetype": "text/x-python",
   "name": "python",
   "nbconvert_exporter": "python",
   "pygments_lexer": "ipython3",
   "version": "3.10.9"
  }
 },
 "nbformat": 4,
 "nbformat_minor": 5
}
